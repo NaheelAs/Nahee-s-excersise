{
  "nbformat": 4,
  "nbformat_minor": 5,
  "metadata": {
    "colab": {
      "name": "Numpy_exercises.ipynb",
      "provenance": [],
      "collapsed_sections": []
    },
    "language_info": {
      "name": "python"
    },
    "kernelspec": {
      "name": "python3",
      "display_name": "Python 3"
    }
  },
  "cells": [
    {
      "cell_type": "markdown",
      "metadata": {
        "id": "bf79c78b"
      },
      "source": [
        "# Numpy exercises\n"
      ],
      "id": "bf79c78b"
    },
    {
      "cell_type": "markdown",
      "metadata": {
        "id": "017db353"
      },
      "source": [
        "#### 1. Import the numpy package under the name `np` (★☆☆) `hint: import … as`"
      ],
      "id": "017db353"
    },
    {
      "cell_type": "code",
      "metadata": {
        "id": "68182a76"
      },
      "source": [
        "import numpy as np"
      ],
      "id": "68182a76",
      "execution_count": null,
      "outputs": []
    },
    {
      "cell_type": "markdown",
      "metadata": {
        "id": "e3c20b3d"
      },
      "source": [
        "#### 2. Create a null vector of size 10 (★☆☆) `hint: vector is a single raw array`"
      ],
      "id": "e3c20b3d"
    },
    {
      "cell_type": "code",
      "metadata": {
        "id": "8a758bcf",
        "outputId": "b1653c07-1cca-4002-9e84-c169817e15b7",
        "colab": {
          "base_uri": "https://localhost:8080/"
        }
      },
      "source": [
        "import numpy as np\n",
        "x= np.zeros (10)\n",
        "print (x)\n"
      ],
      "id": "8a758bcf",
      "execution_count": 4,
      "outputs": [
        {
          "output_type": "stream",
          "text": [
            "[0. 0. 0. 0. 0. 0. 0. 0. 0. 0.]\n"
          ],
          "name": "stdout"
        }
      ]
    },
    {
      "cell_type": "markdown",
      "metadata": {
        "id": "b15a879f"
      },
      "source": [
        "#### 3. How to find the memory size of any array, creat a random 5x6 array and check the sizs (★☆☆)"
      ],
      "id": "b15a879f"
    },
    {
      "cell_type": "code",
      "metadata": {
        "id": "1cc3cbc5",
        "outputId": "c6ef11f8-db06-48e5-8a3e-c3fa831d7c67",
        "colab": {
          "base_uri": "https://localhost:8080/"
        }
      },
      "source": [
        "import numpy as np\n",
        "N= np.arange(5.6)\n",
        "print (N)"
      ],
      "id": "1cc3cbc5",
      "execution_count": 7,
      "outputs": [
        {
          "output_type": "stream",
          "text": [
            "[0. 1. 2. 3. 4. 5.]\n"
          ],
          "name": "stdout"
        }
      ]
    },
    {
      "cell_type": "markdown",
      "metadata": {
        "id": "0a708990"
      },
      "source": [
        "#### 4. How to get the documentation of the numpy add function from the command line? (★☆☆) `hint: use info or ?`"
      ],
      "id": "0a708990"
    },
    {
      "cell_type": "code",
      "metadata": {
        "id": "477e01f4"
      },
      "source": [
        ""
      ],
      "id": "477e01f4",
      "execution_count": null,
      "outputs": []
    },
    {
      "cell_type": "markdown",
      "metadata": {
        "id": "0b16cd77"
      },
      "source": [
        "#### 5. Create a null vector of size 10 but the fifth value which is 1 (★☆☆) `hint: array[x]`"
      ],
      "id": "0b16cd77"
    },
    {
      "cell_type": "code",
      "metadata": {
        "id": "4d9b5975"
      },
      "source": [
        "import numpy as np\n",
        "A= np.arange (10)\n",
        "A[5]= 1\n"
      ],
      "id": "4d9b5975",
      "execution_count": 10,
      "outputs": []
    },
    {
      "cell_type": "markdown",
      "metadata": {
        "id": "782d4c77"
      },
      "source": [
        "#### 7. Create a vector (single raw array) with values ranging from 10 to 49 (★☆☆) `hint: arange`"
      ],
      "id": "782d4c77"
    },
    {
      "cell_type": "code",
      "metadata": {
        "id": "5dbe1a08",
        "outputId": "8f1a650c-3939-4b89-8ddd-50d027a3873d",
        "colab": {
          "base_uri": "https://localhost:8080/"
        }
      },
      "source": [
        "import numpy as np\n",
        "N= np.arange (10,49)\n",
        "print (\"Single Raw Array:\")\n",
        "print (N)\n"
      ],
      "id": "5dbe1a08",
      "execution_count": 11,
      "outputs": [
        {
          "output_type": "stream",
          "text": [
            "Single Raw Array:\n",
            "[10 11 12 13 14 15 16 17 18 19 20 21 22 23 24 25 26 27 28 29 30 31 32 33\n",
            " 34 35 36 37 38 39 40 41 42 43 44 45 46 47 48]\n"
          ],
          "name": "stdout"
        }
      ]
    },
    {
      "cell_type": "markdown",
      "metadata": {
        "id": "48d48f01"
      },
      "source": [
        "#### 8. Show how you can Reverse a vector (first element becomes last) (★☆☆)`hint: use index of -1`"
      ],
      "id": "48d48f01"
    },
    {
      "cell_type": "code",
      "metadata": {
        "id": "3ed233e7",
        "outputId": "f6ebd57f-b9bb-4af4-ac14-80d35f87e061",
        "colab": {
          "base_uri": "https://localhost:8080/"
        }
      },
      "source": [
        "import numpy as np\n",
        "x= np.arange (10,49)\n",
        "print(x)\n",
        "print (\"Reverse Array:\")\n",
        "x= x[::-1]\n",
        "print (x)"
      ],
      "id": "3ed233e7",
      "execution_count": 13,
      "outputs": [
        {
          "output_type": "stream",
          "text": [
            "[10 11 12 13 14 15 16 17 18 19 20 21 22 23 24 25 26 27 28 29 30 31 32 33\n",
            " 34 35 36 37 38 39 40 41 42 43 44 45 46 47 48]\n",
            "Reverse Array:\n",
            "[48 47 46 45 44 43 42 41 40 39 38 37 36 35 34 33 32 31 30 29 28 27 26 25\n",
            " 24 23 22 21 20 19 18 17 16 15 14 13 12 11 10]\n"
          ],
          "name": "stdout"
        }
      ]
    },
    {
      "cell_type": "markdown",
      "metadata": {
        "id": "4fa39382"
      },
      "source": [
        "#### 9. Create a 3x3 matrix with values ranging from 0 to 8 (★☆☆) `hint: use range and reshape!`"
      ],
      "id": "4fa39382"
    },
    {
      "cell_type": "code",
      "metadata": {
        "id": "c97757ec",
        "outputId": "6e4e63c8-890a-4462-948a-9053682c4daf",
        "colab": {
          "base_uri": "https://localhost:8080/",
          "height": 129
        }
      },
      "source": [
        "import numpy as np\n",
        "M= np.arange(0,8).reshape (3,3)\n",
        "print (M)\n"
      ],
      "id": "c97757ec",
      "execution_count": 15,
      "outputs": [
        {
          "output_type": "error",
          "ename": "SyntaxError",
          "evalue": "ignored",
          "traceback": [
            "\u001b[0;36m  File \u001b[0;32m\"<ipython-input-15-8cd6dc0f9243>\"\u001b[0;36m, line \u001b[0;32m2\u001b[0m\n\u001b[0;31m    M= np.arange(0,8).reshape!(3,3)\u001b[0m\n\u001b[0m                             ^\u001b[0m\n\u001b[0;31mSyntaxError\u001b[0m\u001b[0;31m:\u001b[0m invalid syntax\n"
          ]
        }
      ]
    },
    {
      "cell_type": "markdown",
      "metadata": {
        "id": "da64551a"
      },
      "source": [
        "#### 10. Find indices of non-zero elements from [1,2,0,0,4,0] (★☆☆) `hint: use the np.nonzero`"
      ],
      "id": "da64551a"
    },
    {
      "cell_type": "code",
      "metadata": {
        "id": "327f7adb"
      },
      "source": [
        ""
      ],
      "id": "327f7adb",
      "execution_count": null,
      "outputs": []
    },
    {
      "cell_type": "markdown",
      "metadata": {
        "id": "f89d9c9e"
      },
      "source": [
        "#### 11. Create a 3x3 identity matrix (★☆☆) `hint: use index and use np.eye`\n",
        "the following is an example of 5x4 identity matrix\n",
        "\n",
        "\n",
        "```\n",
        "[[1. 0. 0. 0. 0.]\n",
        " [0. 1. 0. 0. 0.]\n",
        " [0. 0. 1. 0. 0.]\n",
        " [0. 0. 0. 1. 0.]\n",
        " [0. 0. 0. 0. 1.]]\n",
        "\n",
        "```\n",
        "\n"
      ],
      "id": "f89d9c9e"
    },
    {
      "cell_type": "code",
      "metadata": {
        "id": "ba625832",
        "outputId": "15701705-6c0e-4295-c796-fe0c2f8f66f7",
        "colab": {
          "base_uri": "https://localhost:8080/",
          "height": 197
        }
      },
      "source": [
        "import numpy as np\n",
        "T= np.eye(5,4).reshape (5,5)\n",
        "print (T)"
      ],
      "id": "ba625832",
      "execution_count": 19,
      "outputs": [
        {
          "output_type": "error",
          "ename": "ValueError",
          "evalue": "ignored",
          "traceback": [
            "\u001b[0;31m---------------------------------------------------------------------------\u001b[0m",
            "\u001b[0;31mValueError\u001b[0m                                Traceback (most recent call last)",
            "\u001b[0;32m<ipython-input-19-d4acecd0bb95>\u001b[0m in \u001b[0;36m<module>\u001b[0;34m()\u001b[0m\n\u001b[1;32m      1\u001b[0m \u001b[0;32mimport\u001b[0m \u001b[0mnumpy\u001b[0m \u001b[0;32mas\u001b[0m \u001b[0mnp\u001b[0m\u001b[0;34m\u001b[0m\u001b[0;34m\u001b[0m\u001b[0m\n\u001b[0;32m----> 2\u001b[0;31m \u001b[0mT\u001b[0m\u001b[0;34m=\u001b[0m \u001b[0mnp\u001b[0m\u001b[0;34m.\u001b[0m\u001b[0meye\u001b[0m\u001b[0;34m(\u001b[0m\u001b[0;36m5\u001b[0m\u001b[0;34m,\u001b[0m\u001b[0;36m4\u001b[0m\u001b[0;34m)\u001b[0m\u001b[0;34m.\u001b[0m\u001b[0mreshape\u001b[0m \u001b[0;34m(\u001b[0m\u001b[0;36m5\u001b[0m\u001b[0;34m,\u001b[0m\u001b[0;36m5\u001b[0m\u001b[0;34m)\u001b[0m\u001b[0;34m\u001b[0m\u001b[0;34m\u001b[0m\u001b[0m\n\u001b[0m\u001b[1;32m      3\u001b[0m \u001b[0mprint\u001b[0m \u001b[0;34m(\u001b[0m\u001b[0mT\u001b[0m\u001b[0;34m)\u001b[0m\u001b[0;34m\u001b[0m\u001b[0;34m\u001b[0m\u001b[0m\n",
            "\u001b[0;31mValueError\u001b[0m: cannot reshape array of size 20 into shape (5,5)"
          ]
        }
      ]
    },
    {
      "cell_type": "markdown",
      "metadata": {
        "id": "7e44c6fa"
      },
      "source": [
        "#### 12. Create a 3x3x3 array with random values (★☆☆) `hint: np.random.random`"
      ],
      "id": "7e44c6fa"
    },
    {
      "cell_type": "code",
      "metadata": {
        "id": "1cb3dddf",
        "outputId": "a67efdc7-c556-4e09-a64f-4f2373319a25",
        "colab": {
          "base_uri": "https://localhost:8080/"
        }
      },
      "source": [
        "import numpy as np\n",
        "A= np.random.random ((3,3,3))\n",
        "print (A)"
      ],
      "id": "1cb3dddf",
      "execution_count": 20,
      "outputs": [
        {
          "output_type": "stream",
          "text": [
            "[[[0.42431763 0.8068254  0.53484915]\n",
            "  [0.05411747 0.19876605 0.23608459]\n",
            "  [0.36376274 0.39324541 0.37872741]]\n",
            "\n",
            " [[0.57635607 0.11746409 0.6733222 ]\n",
            "  [0.8729525  0.12654838 0.90872344]\n",
            "  [0.32163837 0.4678673  0.67099037]]\n",
            "\n",
            " [[0.53647563 0.70931629 0.2542805 ]\n",
            "  [0.5958225  0.56351944 0.99672364]\n",
            "  [0.40810898 0.12753091 0.03499642]]]\n"
          ],
          "name": "stdout"
        }
      ]
    },
    {
      "cell_type": "markdown",
      "metadata": {
        "id": "13c5928c"
      },
      "source": [
        "#### 13. Create a 10x10 array with random values and find the minimum and maximum values (★☆☆) `hint: min, max`"
      ],
      "id": "13c5928c"
    },
    {
      "cell_type": "code",
      "metadata": {
        "id": "911c9b93",
        "outputId": "e7e1005d-ea2c-43a3-802a-a46912fc1d3c",
        "colab": {
          "base_uri": "https://localhost:8080/"
        }
      },
      "source": [
        "import numpy as np\n",
        "N = np.random.random((10,10))\n",
        "print(\"Random Array:\")\n",
        "print(N) \n",
        "xmin, xmax = x.min(), x.max()\n",
        "print(\"Minimum and Maximum Values:\")\n",
        "print(xmin, xmax)\n"
      ],
      "id": "911c9b93",
      "execution_count": 21,
      "outputs": [
        {
          "output_type": "stream",
          "text": [
            "Random Array:\n",
            "[[1.05214627e-01 6.39159115e-01 4.79912512e-01 2.30711209e-01\n",
            "  6.03000965e-01 9.23042757e-01 4.38335034e-01 7.47398069e-01\n",
            "  2.63576957e-01 5.97619116e-01]\n",
            " [1.85194417e-01 8.17977605e-01 3.82209179e-01 2.01634807e-01\n",
            "  1.20873265e-01 4.03925537e-01 2.69430662e-01 9.60997074e-01\n",
            "  1.35229855e-01 6.08154044e-02]\n",
            " [4.80425106e-01 2.42946497e-01 3.52357676e-01 1.55409128e-01\n",
            "  4.60731190e-03 1.52830804e-01 8.47415669e-02 5.21928301e-01\n",
            "  5.41038222e-01 1.26783912e-01]\n",
            " [4.78572624e-01 7.13592109e-01 8.62715722e-02 7.66548696e-04\n",
            "  4.12575530e-01 3.87142035e-01 8.69560830e-02 9.52619681e-01\n",
            "  7.53747248e-01 4.54880415e-01]\n",
            " [3.89096203e-01 4.59606431e-01 4.80241318e-01 1.94161232e-02\n",
            "  1.78726814e-01 7.20310189e-01 4.59285139e-01 2.88986035e-01\n",
            "  2.77670240e-01 3.52004363e-01]\n",
            " [9.58920888e-02 9.95139514e-01 5.41598477e-01 9.55556247e-02\n",
            "  8.80722013e-02 3.23877613e-01 4.29927408e-01 4.02551749e-01\n",
            "  8.39194183e-01 3.35012285e-01]\n",
            " [2.63821571e-01 7.96442275e-02 5.15696473e-01 8.09601518e-01\n",
            "  5.05493254e-02 4.12988146e-01 1.08615781e-01 5.09734068e-01\n",
            "  2.47480717e-01 5.26654803e-01]\n",
            " [7.16984660e-01 3.92407310e-01 8.21675045e-01 2.83886384e-01\n",
            "  4.77939386e-01 8.53753883e-01 2.90290796e-01 7.58143718e-01\n",
            "  9.34347706e-01 7.71411498e-01]\n",
            " [7.02975296e-01 7.28279758e-01 4.10028819e-01 7.78709996e-01\n",
            "  1.29547739e-01 5.02639137e-01 8.15376101e-01 6.89892686e-01\n",
            "  6.48678713e-01 2.80632722e-01]\n",
            " [3.45323928e-01 3.00598186e-03 9.66578861e-01 4.47872170e-02\n",
            "  7.21766595e-01 4.22272632e-01 4.54641265e-03 1.26928049e-01\n",
            "  9.10470441e-01 6.30420678e-01]]\n",
            "Minimum and Maximum Values:\n",
            "10 48\n"
          ],
          "name": "stdout"
        }
      ]
    },
    {
      "cell_type": "markdown",
      "metadata": {
        "id": "3fa2e461"
      },
      "source": [
        "#### 14. Create a random vector of size 30 and find the mean value (★☆☆) `hint: mean`"
      ],
      "id": "3fa2e461"
    },
    {
      "cell_type": "code",
      "metadata": {
        "id": "323eb38a"
      },
      "source": [
        ""
      ],
      "id": "323eb38a",
      "execution_count": null,
      "outputs": []
    },
    {
      "cell_type": "markdown",
      "metadata": {
        "id": "73f7a549"
      },
      "source": [
        "#### 15. Create a 2d array as following, with 1 on the border and 0 inside.. see generated array (★☆☆)\n",
        "\n",
        "\n",
        "\n",
        "```\n",
        "[[1. 1. 1. 1. 1. 1. 1. 1. 1. 1.]\n",
        " [1. 0. 0. 0. 0. 0. 0. 0. 0. 1.]\n",
        " [1. 0. 0. 0. 0. 0. 0. 0. 0. 1.]\n",
        " [1. 0. 0. 0. 0. 0. 0. 0. 0. 1.]\n",
        " [1. 0. 0. 0. 0. 0. 0. 0. 0. 1.]\n",
        " [1. 0. 0. 0. 0. 0. 0. 0. 0. 1.]\n",
        " [1. 0. 0. 0. 0. 0. 0. 0. 0. 1.]\n",
        " [1. 0. 0. 0. 0. 0. 0. 0. 0. 1.]\n",
        " [1. 0. 0. 0. 0. 0. 0. 0. 0. 1.]\n",
        " [1. 1. 1. 1. 1. 1. 1. 1. 1. 1.]]\n",
        "```\n",
        "\n"
      ],
      "id": "73f7a549"
    },
    {
      "cell_type": "code",
      "metadata": {
        "id": "e3a6807d"
      },
      "source": [
        "# Your code"
      ],
      "id": "e3a6807d",
      "execution_count": null,
      "outputs": []
    },
    {
      "cell_type": "markdown",
      "metadata": {
        "id": "6d0c506f"
      },
      "source": [
        "#### 16. How to add a border (filled with 0's) around an existing array? (★★☆) `hint: see generated array np.pad   `"
      ],
      "id": "6d0c506f"
    },
    {
      "cell_type": "code",
      "metadata": {
        "colab": {
          "base_uri": "https://localhost:8080/"
        },
        "id": "32ffee7b",
        "outputId": "376a4fe2-86ec-4cd1-e062-1cc49c09b919"
      },
      "source": [
        "# Your code"
      ],
      "id": "32ffee7b",
      "execution_count": null,
      "outputs": [
        {
          "output_type": "stream",
          "text": [
            "[[0. 0. 0. 0. 0. 0. 0.]\n",
            " [0. 1. 1. 1. 1. 1. 0.]\n",
            " [0. 1. 1. 1. 1. 1. 0.]\n",
            " [0. 1. 1. 1. 1. 1. 0.]\n",
            " [0. 1. 1. 1. 1. 1. 0.]\n",
            " [0. 1. 1. 1. 1. 1. 0.]\n",
            " [0. 0. 0. 0. 0. 0. 0.]]\n"
          ],
          "name": "stdout"
        }
      ]
    },
    {
      "cell_type": "markdown",
      "metadata": {
        "id": "d6ad1a9f"
      },
      "source": [
        "#### 17. What is the result of the following expression? (★☆☆)\n",
        "```python\n",
        "0 * np.nan\n",
        "np.nan == np.nan\n",
        "np.inf > np.nan\n",
        "np.nan - np.nan\n",
        "np.nan in set([np.nan])\n",
        "0.3 == 3 * 0.1\n",
        "```"
      ],
      "id": "d6ad1a9f"
    },
    {
      "cell_type": "markdown",
      "metadata": {
        "id": "cUiAXyeXApYe"
      },
      "source": [
        " ####18  What is the result of the following expression? (★☆☆) `hint: indexing the nan using np.nan`\n",
        "\n",
        "\n",
        "\n",
        "```\n",
        "Z = np.ones((5,5))\n",
        "Z[0,1]=np.nan\n",
        "Z\n",
        "```\n",
        "\n"
      ],
      "id": "cUiAXyeXApYe"
    },
    {
      "cell_type": "code",
      "metadata": {
        "id": "wirXjeT-Bd2H",
        "outputId": "ef28528b-eda7-46be-e3bc-b48bcaa27ae1",
        "colab": {
          "base_uri": "https://localhost:8080/"
        }
      },
      "source": [
        "import numpy as np\n",
        "0 * np.nan\n",
        "np.nan == np.nan\n",
        "np.inf > np.nan\n",
        "np.nan - np.nan\n",
        "np.nan in set([np.nan])\n",
        "0.3 == 3 * 0.1\n",
        "\n",
        "Z = np.ones((5,5))\n",
        "Z[0,1]=np.nan\n",
        "Z"
      ],
      "id": "wirXjeT-Bd2H",
      "execution_count": 22,
      "outputs": [
        {
          "output_type": "execute_result",
          "data": {
            "text/plain": [
              "array([[ 1., nan,  1.,  1.,  1.],\n",
              "       [ 1.,  1.,  1.,  1.,  1.],\n",
              "       [ 1.,  1.,  1.,  1.,  1.],\n",
              "       [ 1.,  1.,  1.,  1.,  1.],\n",
              "       [ 1.,  1.,  1.,  1.,  1.]])"
            ]
          },
          "metadata": {
            "tags": []
          },
          "execution_count": 22
        }
      ]
    },
    {
      "cell_type": "markdown",
      "metadata": {
        "id": "qujryEWVA4pY"
      },
      "source": [
        "#### 18. Now, use this expression to find the index of your nan\n",
        "\n",
        "\n",
        "```\n",
        "np.argwhere(x!=x)    Hint: x is your array\n",
        "```\n",
        "\n",
        "\n",
        "\n"
      ],
      "id": "qujryEWVA4pY"
    },
    {
      "cell_type": "markdown",
      "metadata": {
        "id": "FvqtyHKDDJbO"
      },
      "source": [
        "20. Generate the following array \n",
        "\n",
        "\n",
        "```\n",
        "array([[ 1,  2,  3,  4],\n",
        "       [ 5,  6,  7,  8],\n",
        "       [ 9, 10, 11, 12],\n",
        "       [13, 14, 15, 16]])\n",
        "```\n",
        "\n"
      ],
      "id": "FvqtyHKDDJbO"
    },
    {
      "cell_type": "code",
      "metadata": {
        "id": "41OqU1ueElVm",
        "outputId": "b28ed680-335a-47f6-d78b-89d817b09c41",
        "colab": {
          "base_uri": "https://localhost:8080/",
          "height": 231
        }
      },
      "source": [
        ""
      ],
      "id": "41OqU1ueElVm",
      "execution_count": 23,
      "outputs": [
        {
          "output_type": "error",
          "ename": "NameError",
          "evalue": "ignored",
          "traceback": [
            "\u001b[0;31m---------------------------------------------------------------------------\u001b[0m",
            "\u001b[0;31mNameError\u001b[0m                                 Traceback (most recent call last)",
            "\u001b[0;32m<ipython-input-23-1912471e6c93>\u001b[0m in \u001b[0;36m<module>\u001b[0;34m()\u001b[0m\n\u001b[1;32m      1\u001b[0m \u001b[0;32mimport\u001b[0m \u001b[0mnumpy\u001b[0m \u001b[0;32mas\u001b[0m \u001b[0mnp\u001b[0m\u001b[0;34m\u001b[0m\u001b[0;34m\u001b[0m\u001b[0m\n\u001b[0;32m----> 2\u001b[0;31m array([[ 1,  2,  3,  4],\n\u001b[0m\u001b[1;32m      3\u001b[0m        \u001b[0;34m[\u001b[0m \u001b[0;36m5\u001b[0m\u001b[0;34m,\u001b[0m  \u001b[0;36m6\u001b[0m\u001b[0;34m,\u001b[0m  \u001b[0;36m7\u001b[0m\u001b[0;34m,\u001b[0m  \u001b[0;36m8\u001b[0m\u001b[0;34m]\u001b[0m\u001b[0;34m,\u001b[0m\u001b[0;34m\u001b[0m\u001b[0;34m\u001b[0m\u001b[0m\n\u001b[1;32m      4\u001b[0m        \u001b[0;34m[\u001b[0m \u001b[0;36m9\u001b[0m\u001b[0;34m,\u001b[0m \u001b[0;36m10\u001b[0m\u001b[0;34m,\u001b[0m \u001b[0;36m11\u001b[0m\u001b[0;34m,\u001b[0m \u001b[0;36m12\u001b[0m\u001b[0;34m]\u001b[0m\u001b[0;34m,\u001b[0m\u001b[0;34m\u001b[0m\u001b[0;34m\u001b[0m\u001b[0m\n\u001b[1;32m      5\u001b[0m        [13, 14, 15, 16]])\n",
            "\u001b[0;31mNameError\u001b[0m: name 'array' is not defined"
          ]
        }
      ]
    },
    {
      "cell_type": "markdown",
      "metadata": {
        "id": "Nu-kxgXYEw4H"
      },
      "source": [
        "#### 19. Extract the following values `array([ 1,  6, 11, 16])`. ` Hint: use np.diagonal()`"
      ],
      "id": "Nu-kxgXYEw4H"
    },
    {
      "cell_type": "code",
      "metadata": {
        "id": "K75gLJt5AkD2"
      },
      "source": [
        ""
      ],
      "id": "K75gLJt5AkD2",
      "execution_count": null,
      "outputs": []
    },
    {
      "cell_type": "code",
      "metadata": {
        "colab": {
          "base_uri": "https://localhost:8080/"
        },
        "id": "bMmo0hIlC2It",
        "outputId": "0276e34f-93d9-4054-ccdd-a3552479e1eb"
      },
      "source": [
        "Z"
      ],
      "id": "bMmo0hIlC2It",
      "execution_count": null,
      "outputs": [
        {
          "output_type": "execute_result",
          "data": {
            "text/plain": [
              "array([7.29e-44, 1.96e-44, 2.80e-45, 1.35e-43, 5.75e-44, 9.95e-44,\n",
              "       9.25e-44, 7.85e-44, 6.31e-44, 5.61e-45], dtype=float32)"
            ]
          },
          "metadata": {
            "tags": []
          },
          "execution_count": 82
        }
      ]
    },
    {
      "cell_type": "markdown",
      "metadata": {
        "id": "e3a7ba7f"
      },
      "source": [
        "#### 20. Try to use `np.diag` to Create a 5x5 matrix with diagonal values 11,11,11,11 (★★☆) Hint: use np.diag with k=0 and [11,11,11,11]. -- diag([11,11,11,11],k=-0)"
      ],
      "id": "e3a7ba7f"
    },
    {
      "cell_type": "markdown",
      "metadata": {
        "id": "puqXeNWRF4yG"
      },
      "source": [
        "#### 21.  Create a 5x5 matrix with values 1,2,3,4 just below the diagonal (★☆☆) `Hint: use k=-1 when calling np.diag`"
      ],
      "id": "puqXeNWRF4yG"
    },
    {
      "cell_type": "code",
      "metadata": {
        "colab": {
          "base_uri": "https://localhost:8080/"
        },
        "id": "01d8e257",
        "outputId": "7bb50841-8092-465d-d725-a6f66f02e09a"
      },
      "source": [
        "import numpy as np\n",
        "n= np.diag([1,2,3,4])\n",
        "print (n)"
      ],
      "id": "01d8e257",
      "execution_count": 24,
      "outputs": [
        {
          "output_type": "stream",
          "text": [
            "[[1 0 0 0]\n",
            " [0 2 0 0]\n",
            " [0 0 3 0]\n",
            " [0 0 0 4]]\n"
          ],
          "name": "stdout"
        }
      ]
    },
    {
      "cell_type": "markdown",
      "metadata": {
        "id": "6d17ab5d"
      },
      "source": [
        "####22. Create a 8x8 matrix and fill it with a given pattern (★☆☆) Hint: use np.zeros and do the replace \n",
        "\n",
        "\n",
        "\n",
        "```\n",
        "[['' 'O' '' 'O' '' 'O' '' 'O']\n",
        " ['M' '' 'M' '' 'M' '' 'M' '']\n",
        " ['' 'O' '' 'O' '' 'O' '' 'O']\n",
        " ['M' '' 'M' '' 'M' '' 'M' '']\n",
        " ['' 'O' '' 'O' '' 'O' '' 'O']\n",
        " ['M' '' 'M' '' 'M' '' 'M' '']\n",
        " ['' 'O' '' 'O' '' 'O' '' 'O']\n",
        " ['M' '' 'M' '' 'M' '' 'M' '']]\n",
        "```\n",
        "\n"
      ],
      "id": "6d17ab5d"
    },
    {
      "cell_type": "code",
      "metadata": {
        "colab": {
          "base_uri": "https://localhost:8080/"
        },
        "id": "841373cd",
        "outputId": "486ec24b-6e0e-4c08-d843-abddcb180478"
      },
      "source": [
        "import numpy as np\n"
      ],
      "id": "841373cd",
      "execution_count": null,
      "outputs": [
        {
          "output_type": "stream",
          "text": [
            "[['' 'O' '' 'O' '' 'O' '' 'O']\n",
            " ['M' '' 'M' '' 'M' '' 'M' '']\n",
            " ['' 'O' '' 'O' '' 'O' '' 'O']\n",
            " ['M' '' 'M' '' 'M' '' 'M' '']\n",
            " ['' 'O' '' 'O' '' 'O' '' 'O']\n",
            " ['M' '' 'M' '' 'M' '' 'M' '']\n",
            " ['' 'O' '' 'O' '' 'O' '' 'O']\n",
            " ['M' '' 'M' '' 'M' '' 'M' '']]\n"
          ],
          "name": "stdout"
        }
      ]
    },
    {
      "cell_type": "markdown",
      "metadata": {
        "id": "TWPMKIRMG5B-"
      },
      "source": [
        "#### 23. Use the `np.tile` to generate the same pattern \n",
        "\n",
        "```\n",
        "[['' 'O' '' 'O' '' 'O' '' 'O']\n",
        " ['M' '' 'M' '' 'M' '' 'M' '']\n",
        " ['' 'O' '' 'O' '' 'O' '' 'O']\n",
        " ['M' '' 'M' '' 'M' '' 'M' '']\n",
        " ['' 'O' '' 'O' '' 'O' '' 'O']\n",
        " ['M' '' 'M' '' 'M' '' 'M' '']\n",
        " ['' 'O' '' 'O' '' 'O' '' 'O']\n",
        " ['M' '' 'M' '' 'M' '' 'M' '']]\n",
        "```\n",
        "\n"
      ],
      "id": "TWPMKIRMG5B-"
    },
    {
      "cell_type": "code",
      "metadata": {
        "colab": {
          "base_uri": "https://localhost:8080/"
        },
        "id": "0a4f919f",
        "outputId": "acd982d3-cc5c-449e-8f33-afb07bc7a0b0"
      },
      "source": [
        ""
      ],
      "id": "0a4f919f",
      "execution_count": null,
      "outputs": [
        {
          "output_type": "stream",
          "text": [
            "[['' 'O' '' 'O' '' 'O' '' 'O']\n",
            " ['M' '' 'M' '' 'M' '' 'M' '']\n",
            " ['' 'O' '' 'O' '' 'O' '' 'O']\n",
            " ['M' '' 'M' '' 'M' '' 'M' '']\n",
            " ['' 'O' '' 'O' '' 'O' '' 'O']\n",
            " ['M' '' 'M' '' 'M' '' 'M' '']\n",
            " ['' 'O' '' 'O' '' 'O' '' 'O']\n",
            " ['M' '' 'M' '' 'M' '' 'M' '']]\n"
          ],
          "name": "stdout"
        }
      ]
    },
    {
      "cell_type": "markdown",
      "metadata": {
        "id": "391791e0"
      },
      "source": [
        "#### 24. Generate then Normalize a 5x5 random matrix (★☆☆)  `hint: Normalization_array = (x_arr -mean_value(x))/std_value(x)`"
      ],
      "id": "391791e0"
    },
    {
      "cell_type": "code",
      "metadata": {
        "id": "f6533d39"
      },
      "source": [
        ""
      ],
      "id": "f6533d39",
      "execution_count": null,
      "outputs": []
    },
    {
      "cell_type": "markdown",
      "metadata": {
        "id": "51898680"
      },
      "source": [
        "#### 25. generate any 1D array, negate all elements which are between 3 and 8, in place. (★☆☆)\n",
        "\n",
        "where \n",
        "\n",
        "```\n",
        "array([ 0,  1,  2,  3,  4,  5,  6,  7,  8,  9, 10])\n",
        "```\n",
        "will return\n",
        "\n",
        "```\n",
        "[ 0  1  2  3 -4 -5 -6 -7  8  9 10]\n",
        "```\n",
        "\n",
        "\n"
      ],
      "id": "51898680"
    },
    {
      "cell_type": "code",
      "metadata": {
        "colab": {
          "base_uri": "https://localhost:8080/"
        },
        "id": "51c90f2d",
        "outputId": "8df9b127-1948-4390-e0cd-c9f985e051d3"
      },
      "source": [
        "Z = np.arange(11)\n",
        "# Your code here!. "
      ],
      "id": "51c90f2d",
      "execution_count": null,
      "outputs": [
        {
          "output_type": "execute_result",
          "data": {
            "text/plain": [
              "array([ 0,  1,  2,  3,  4,  5,  6,  7,  8,  9, 10])"
            ]
          },
          "metadata": {
            "tags": []
          },
          "execution_count": 72
        }
      ]
    },
    {
      "cell_type": "markdown",
      "metadata": {
        "id": "ebd10810"
      },
      "source": [
        "#### 26. Consider an integer vector Z, comment any iligal expressions (★☆☆)\n",
        "```python\n",
        "Z**Z\n",
        "2 << Z >> 2\n",
        "Z <- Z\n",
        "1j*Z\n",
        "Z/1/1\n",
        "Z<Z>Z\n",
        "```"
      ],
      "id": "ebd10810"
    },
    {
      "cell_type": "code",
      "metadata": {
        "id": "GPHf_u70qIqJ"
      },
      "source": [
        ""
      ],
      "id": "GPHf_u70qIqJ",
      "execution_count": null,
      "outputs": []
    },
    {
      "cell_type": "markdown",
      "metadata": {
        "id": "f1ae2c2d"
      },
      "source": [
        "#### 27. Generate two randon 1D array, How to find common values between two arrays? (★☆☆) `Hint: use intersect1d(Arr1,Arr2)`"
      ],
      "id": "f1ae2c2d"
    },
    {
      "cell_type": "code",
      "metadata": {
        "id": "6801c73d"
      },
      "source": [
        "\n"
      ],
      "id": "6801c73d",
      "execution_count": null,
      "outputs": []
    },
    {
      "cell_type": "markdown",
      "metadata": {
        "id": "34a7bdee"
      },
      "source": [
        "#### 28. How to ignore all numpy warnings (not recommended)? (★☆☆)"
      ],
      "id": "34a7bdee"
    },
    {
      "cell_type": "code",
      "metadata": {
        "id": "befc60d1"
      },
      "source": [
        ""
      ],
      "id": "befc60d1",
      "execution_count": null,
      "outputs": []
    }
  ]
}